{
 "cells": [
  {
   "cell_type": "code",
   "execution_count": null,
   "metadata": {
    "executionInfo": {
     "elapsed": 215,
     "status": "ok",
     "timestamp": 1691930183256,
     "user": {
      "displayName": "Gabriela Władyka",
      "userId": "00676285348265176366"
     },
     "user_tz": -120
    },
    "id": "522ts0lLJFge"
   },
   "outputs": [],
   "source": [
    "from subprocess import check_output\n",
    "import tensorflow as tf\n",
    "from tensorflow.keras.datasets import fashion_mnist\n",
    "import pandas as pd\n",
    "import numpy as np\n",
    "import warnings\n",
    "warnings.filterwarnings('ignore')\n",
    "import matplotlib.pyplot as plt\n",
    "from sklearn.model_selection import train_test_split\n",
    "import keras\n",
    "from keras.models import Sequential\n",
    "from keras.layers import Conv2D,MaxPooling2D,Dense,Flatten,Dropout\n",
    "from keras.optimizers import Adam\n",
    "from keras.callbacks import TensorBoard\n",
    "num_classes = 10\n",
    "epochs = 20"
   ]
  },
  {
   "cell_type": "code",
   "execution_count": null,
   "metadata": {
    "executionInfo": {
     "elapsed": 508,
     "status": "ok",
     "timestamp": 1691930184145,
     "user": {
      "displayName": "Gabriela Władyka",
      "userId": "00676285348265176366"
     },
     "user_tz": -120
    },
    "id": "1zLrnNSxJJdT"
   },
   "outputs": [],
   "source": [
    "(trainX, trainY), (validateX, validateY) = fashion_mnist.load_data()"
   ]
  },
  {
   "cell_type": "code",
   "execution_count": null,
   "metadata": {
    "colab": {
     "base_uri": "https://localhost:8080/",
     "height": 430
    },
    "executionInfo": {
     "elapsed": 653,
     "status": "ok",
     "timestamp": 1691928111775,
     "user": {
      "displayName": "Gabriela Władyka",
      "userId": "00676285348265176366"
     },
     "user_tz": -120
    },
    "id": "C_ROcnT4av-P",
    "outputId": "a347f6b8-b875-4842-d36a-5c27b95d782c"
   },
   "outputs": [],
   "source": [
    "plt.figure()\n",
    "plt.imshow(trainX[16], cmap='gray')\n",
    "plt.colorbar()\n",
    "plt.grid(False)\n",
    "plt.show()"
   ]
  },
  {
   "cell_type": "code",
   "execution_count": null,
   "metadata": {
    "colab": {
     "base_uri": "https://localhost:8080/",
     "height": 435
    },
    "executionInfo": {
     "elapsed": 755,
     "status": "ok",
     "timestamp": 1691922241178,
     "user": {
      "displayName": "Gabriela Władyka",
      "userId": "00676285348265176366"
     },
     "user_tz": -120
    },
    "id": "nqW2yOYrbD5n",
    "outputId": "1e2cceb1-9303-460a-bd0d-0741603fd3dd"
   },
   "outputs": [],
   "source": [
    "plt.figure()\n",
    "plt.imshow(trainX[0] / 255.0)\n",
    "plt.colorbar()\n",
    "plt.grid(False)\n",
    "plt.show()"
   ]
  },
  {
   "cell_type": "code",
   "execution_count": null,
   "metadata": {
    "colab": {
     "base_uri": "https://localhost:8080/"
    },
    "executionInfo": {
     "elapsed": 210,
     "status": "ok",
     "timestamp": 1691924067960,
     "user": {
      "displayName": "Gabriela Władyka",
      "userId": "00676285348265176366"
     },
     "user_tz": -120
    },
    "id": "vgAA1ABohhAs",
    "outputId": "c3405edf-0f5a-4c61-9254-be3f246b6ef2"
   },
   "outputs": [],
   "source": [
    "print(np.isnan(trainX).any().sum())\n",
    "print(np.isnan(trainY).any().sum())\n",
    "print(np.isnan(validateX).any().sum())\n",
    "print(np.isnan(validateY).any().sum())"
   ]
  },
  {
   "cell_type": "code",
   "execution_count": null,
   "metadata": {
    "colab": {
     "base_uri": "https://localhost:8080/"
    },
    "executionInfo": {
     "elapsed": 4,
     "status": "ok",
     "timestamp": 1691923030476,
     "user": {
      "displayName": "Gabriela Władyka",
      "userId": "00676285348265176366"
     },
     "user_tz": -120
    },
    "id": "tXjkPI_lbvQ2",
    "outputId": "10d28da2-1916-4912-cc5c-bec48a833f8e"
   },
   "outputs": [],
   "source": [
    "index_to_item = {0:\"T-shirt/top\", 1:\"Trouser\", 2:\"Pullover\", 3:\"Dress\", 4:\"Coat\", 5:\"Sandals\", 6:\"Shirt\", 7:\"Sneaker\", 8:\"Bag\", 9:\"Ankle Boots\"}\n",
    "unique, counts = np.unique(trainY, return_counts=True)\n",
    "unique_items = [index_to_item[x] for x in unique]\n",
    "D = dict(zip(unique_items, counts))\n"
   ]
  },
  {
   "cell_type": "code",
   "execution_count": null,
   "metadata": {
    "colab": {
     "base_uri": "https://localhost:8080/",
     "height": 676
    },
    "executionInfo": {
     "elapsed": 601,
     "status": "ok",
     "timestamp": 1691923226641,
     "user": {
      "displayName": "Gabriela Władyka",
      "userId": "00676285348265176366"
     },
     "user_tz": -120
    },
    "id": "midCBYjXcGM_",
    "outputId": "734510cb-05b1-4d1a-d71b-d4acdc5bb1f0"
   },
   "outputs": [],
   "source": [
    "import matplotlib.colors as mcolors\n",
    "\n",
    "fig = plt.figure(figsize=(10,8))\n",
    "plt.bar(range(len(D)), list(D.values()), align='center', color = mcolors.TABLEAU_COLORS)\n",
    "plt.xticks(range(len(D)), list(D.keys()))\n",
    "\n",
    "plt.show()"
   ]
  },
  {
   "cell_type": "code",
   "execution_count": null,
   "metadata": {
    "executionInfo": {
     "elapsed": 304,
     "status": "ok",
     "timestamp": 1691930189326,
     "user": {
      "displayName": "Gabriela Władyka",
      "userId": "00676285348265176366"
     },
     "user_tz": -120
    },
    "id": "SAgiChK_JcFQ"
   },
   "outputs": [],
   "source": [
    "image_rows = 28\n",
    "image_cols = 28\n",
    "batch_size = 4096\n",
    "image_shape = (image_rows,image_cols)"
   ]
  },
  {
   "cell_type": "markdown",
   "metadata": {
    "id": "QFyuG5tcJVyW"
   },
   "source": [
    "**[CNN model - default Adam + dropout]**"
   ]
  },
  {
   "cell_type": "code",
   "execution_count": null,
   "metadata": {
    "executionInfo": {
     "elapsed": 258,
     "status": "ok",
     "timestamp": 1691924466554,
     "user": {
      "displayName": "Gabriela Władyka",
      "userId": "00676285348265176366"
     },
     "user_tz": -120
    },
    "id": "S_iv6jyKJM4P"
   },
   "outputs": [],
   "source": [
    "CNN_model_Adam = Sequential([\n",
    "    Conv2D(filters=32, kernel_size=3, activation='relu', input_shape=(*image_shape, 1)),\n",
    "    MaxPooling2D(pool_size=2),\n",
    "    Dropout(0.2),\n",
    "    Flatten(),\n",
    "    Dense(32,activation='relu'),\n",
    "    Dense(10,activation = 'softmax')\n",
    "])"
   ]
  },
  {
   "cell_type": "code",
   "execution_count": null,
   "metadata": {
    "colab": {
     "base_uri": "https://localhost:8080/",
     "height": 754
    },
    "executionInfo": {
     "elapsed": 847,
     "status": "ok",
     "timestamp": 1691924558009,
     "user": {
      "displayName": "Gabriela Władyka",
      "userId": "00676285348265176366"
     },
     "user_tz": -120
    },
    "id": "mQldISubjvdv",
    "outputId": "5730679c-cfee-49a9-e8d4-65d5b4b7be96"
   },
   "outputs": [],
   "source": [
    "from keras.utils.vis_utils import plot_model\n",
    "\n",
    "plot_model(CNN_model_Adam, show_shapes=True)"
   ]
  },
  {
   "cell_type": "code",
   "execution_count": null,
   "metadata": {
    "executionInfo": {
     "elapsed": 275,
     "status": "ok",
     "timestamp": 1691930194650,
     "user": {
      "displayName": "Gabriela Władyka",
      "userId": "00676285348265176366"
     },
     "user_tz": -120
    },
    "id": "6N7vR30uJoAt"
   },
   "outputs": [],
   "source": [
    "CNN_model_Adam.compile(loss ='sparse_categorical_crossentropy', optimizer=\"Adam\", metrics =['accuracy'])"
   ]
  },
  {
   "cell_type": "code",
   "execution_count": null,
   "metadata": {
    "colab": {
     "base_uri": "https://localhost:8080/"
    },
    "executionInfo": {
     "elapsed": 1907296,
     "status": "ok",
     "timestamp": 1691932798583,
     "user": {
      "displayName": "Gabriela Władyka",
      "userId": "00676285348265176366"
     },
     "user_tz": -120
    },
    "id": "ZPcaV3HdJthF",
    "outputId": "2b11a2b4-9212-4469-c653-b8e59b1d6cf9"
   },
   "outputs": [],
   "source": [
    "history_CNN_Adam = CNN_model_Adam.fit(trainX, trainY, batch_size = 4096, epochs = 75, verbose = 1, validation_data=(validateX, validateY))"
   ]
  },
  {
   "cell_type": "code",
   "execution_count": null,
   "metadata": {
    "colab": {
     "base_uri": "https://localhost:8080/",
     "height": 466
    },
    "executionInfo": {
     "elapsed": 947,
     "status": "ok",
     "timestamp": 1691933745572,
     "user": {
      "displayName": "Gabriela Władyka",
      "userId": "00676285348265176366"
     },
     "user_tz": -120
    },
    "id": "81c1xNyoJyLM",
    "outputId": "8821aff2-4416-43a8-8e4b-c5bc73706591"
   },
   "outputs": [],
   "source": [
    "loss = history_CNN_Adam.history[\"loss\"][2:]\n",
    "val_loss = history_CNN_Adam.history[\"val_loss\"][2:]\n",
    "plt.xlabel(\"Epochs\")\n",
    "plt.ylabel(\"Loss\")\n",
    "plt.plot(range(3,76), loss, \"g\", label = \"Training Loss\")\n",
    "plt.plot(range(3,76), val_loss, \"r\", label = \"Validation Loss\")"
   ]
  },
  {
   "cell_type": "code",
   "execution_count": null,
   "metadata": {
    "colab": {
     "base_uri": "https://localhost:8080/",
     "height": 466
    },
    "executionInfo": {
     "elapsed": 623,
     "status": "ok",
     "timestamp": 1691333476135,
     "user": {
      "displayName": "Gabriela Władyka",
      "userId": "00676285348265176366"
     },
     "user_tz": -120
    },
    "id": "87I3MECIJ-HY",
    "outputId": "ceffa0e5-4adb-4b91-c523-dfc39d67a688"
   },
   "outputs": [],
   "source": [
    "accuracy = history_CNN_Adam.history[\"accuracy\"]\n",
    "val_accuracy = history_CNN_Adam.history[\"val_accuracy\"]\n",
    "plt.xlabel(\"Epochs\")\n",
    "plt.ylabel(\"Accuracy\")\n",
    "plt.plot(range(1,76), accuracy, \"g\", label = \"Validation Accuracy\")\n",
    "plt.plot(range(1,76), val_accuracy, \"r\", label = \"Validation Accuracy\")"
   ]
  }
 ],
 "metadata": {
  "colab": {
   "authorship_tag": "ABX9TyNxybNjYX/HhxlqoDG1uNQt",
   "provenance": [
    {
     "file_id": "1Ff-3e2-eVLpg6zp7NDGfL4g9HbNvHvaO",
     "timestamp": 1691330669479
    }
   ]
  },
  "kernelspec": {
   "display_name": "Python 3 (ipykernel)",
   "language": "python",
   "name": "python3"
  },
  "language_info": {
   "codemirror_mode": {
    "name": "ipython",
    "version": 3
   },
   "file_extension": ".py",
   "mimetype": "text/x-python",
   "name": "python",
   "nbconvert_exporter": "python",
   "pygments_lexer": "ipython3",
   "version": "3.9.13"
  }
 },
 "nbformat": 4,
 "nbformat_minor": 1
}
