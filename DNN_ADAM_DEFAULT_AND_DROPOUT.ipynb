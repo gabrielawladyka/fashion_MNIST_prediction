{
 "cells": [
  {
   "cell_type": "code",
   "execution_count": null,
   "metadata": {
    "executionInfo": {
     "elapsed": 11544,
     "status": "ok",
     "timestamp": 1691331123818,
     "user": {
      "displayName": "Gabriela Władyka",
      "userId": "00676285348265176366"
     },
     "user_tz": -120
    },
    "id": "522ts0lLJFge"
   },
   "outputs": [],
   "source": [
    "from subprocess import check_output\n",
    "import tensorflow as tf\n",
    "from tensorflow.keras.datasets import fashion_mnist\n",
    "import pandas as pd\n",
    "import numpy as np\n",
    "import warnings\n",
    "warnings.filterwarnings('ignore')\n",
    "import matplotlib.pyplot as plt\n",
    "from sklearn.model_selection import train_test_split\n",
    "import keras\n",
    "from keras.models import Sequential\n",
    "from keras.layers import Conv2D,MaxPooling2D,Dense,Flatten,Dropout\n",
    "from keras.optimizers import Adam\n",
    "from keras.callbacks import TensorBoard\n",
    "num_classes = 10\n",
    "epochs = 20"
   ]
  },
  {
   "cell_type": "code",
   "execution_count": null,
   "metadata": {
    "colab": {
     "base_uri": "https://localhost:8080/"
    },
    "executionInfo": {
     "elapsed": 2523,
     "status": "ok",
     "timestamp": 1691331126334,
     "user": {
      "displayName": "Gabriela Władyka",
      "userId": "00676285348265176366"
     },
     "user_tz": -120
    },
    "id": "1zLrnNSxJJdT",
    "outputId": "1466d376-530f-49ec-e1f4-fb36d2fddccf"
   },
   "outputs": [],
   "source": [
    "(trainX, trainY), (validateX, validateY) = fashion_mnist.load_data()"
   ]
  },
  {
   "cell_type": "code",
   "execution_count": null,
   "metadata": {
    "executionInfo": {
     "elapsed": 8,
     "status": "ok",
     "timestamp": 1691331126335,
     "user": {
      "displayName": "Gabriela Władyka",
      "userId": "00676285348265176366"
     },
     "user_tz": -120
    },
    "id": "SAgiChK_JcFQ"
   },
   "outputs": [],
   "source": [
    "image_rows = 28\n",
    "image_cols = 28\n",
    "batch_size = 4096\n",
    "image_shape = (image_rows,image_cols)"
   ]
  },
  {
   "cell_type": "markdown",
   "metadata": {
    "id": "QFyuG5tcJVyW"
   },
   "source": [
    "**[DNN model - default Adam - and dropout]**"
   ]
  },
  {
   "cell_type": "code",
   "execution_count": null,
   "metadata": {
    "executionInfo": {
     "elapsed": 2,
     "status": "ok",
     "timestamp": 1691331127170,
     "user": {
      "displayName": "Gabriela Władyka",
      "userId": "00676285348265176366"
     },
     "user_tz": -120
    },
    "id": "S_iv6jyKJM4P"
   },
   "outputs": [],
   "source": [
    "from tensorflow.keras import models\n",
    "from tensorflow.keras import layers"
   ]
  },
  {
   "cell_type": "code",
   "execution_count": null,
   "metadata": {
    "executionInfo": {
     "elapsed": 6,
     "status": "ok",
     "timestamp": 1691331161013,
     "user": {
      "displayName": "Gabriela Władyka",
      "userId": "00676285348265176366"
     },
     "user_tz": -120
    },
    "id": "jZiLXOPJLyUh"
   },
   "outputs": [],
   "source": [
    "def get_fashion_model_mnist_dnn():\n",
    "  model = models.Sequential()\n",
    "  model.add(layers.Dense(units = 128, activation = \"relu\", input_shape = (image_shape[0]*image_shape[1], )))\n",
    "  model.add(Dropout(0.2))\n",
    "  model.add(layers.Dense(units = 64, activation = \"relu\"))\n",
    "  model.add(Dropout(0.2))\n",
    "  model.add(layers.Dense(units = 32, activation = \"relu\"))\n",
    "  model.add(Dropout(0.2))\n",
    "  model.add(layers.Dense(units = 10, activation = \"softmax\"))\n",
    "  return  model"
   ]
  },
  {
   "cell_type": "code",
   "execution_count": null,
   "metadata": {
    "executionInfo": {
     "elapsed": 648,
     "status": "ok",
     "timestamp": 1691331165692,
     "user": {
      "displayName": "Gabriela Władyka",
      "userId": "00676285348265176366"
     },
     "user_tz": -120
    },
    "id": "goJVq4kcL1FV"
   },
   "outputs": [],
   "source": [
    "fashion_model_mnist_dnn = get_fashion_model_mnist_dnn()"
   ]
  },
  {
   "cell_type": "code",
   "execution_count": null,
   "metadata": {
    "executionInfo": {
     "elapsed": 3,
     "status": "ok",
     "timestamp": 1691331166964,
     "user": {
      "displayName": "Gabriela Władyka",
      "userId": "00676285348265176366"
     },
     "user_tz": -120
    },
    "id": "UUKccCPvL4q-"
   },
   "outputs": [],
   "source": [
    "fashion_model_mnist_dnn.compile(optimizer = \"rmsprop\", loss = \"sparse_categorical_crossentropy\", metrics = [\"accuracy\"])"
   ]
  },
  {
   "cell_type": "code",
   "execution_count": null,
   "metadata": {
    "executionInfo": {
     "elapsed": 1,
     "status": "ok",
     "timestamp": 1691331169904,
     "user": {
      "displayName": "Gabriela Władyka",
      "userId": "00676285348265176366"
     },
     "user_tz": -120
    },
    "id": "B-mnk0VxL1hq"
   },
   "outputs": [],
   "source": [
    "flattenedTrainX = trainX.reshape(60000, 28*28)\n",
    "flattenedValidateX = validateX.reshape(10000, 28*28)"
   ]
  },
  {
   "cell_type": "code",
   "execution_count": null,
   "metadata": {
    "colab": {
     "base_uri": "https://localhost:8080/"
    },
    "executionInfo": {
     "elapsed": 1522635,
     "status": "ok",
     "timestamp": 1691332695125,
     "user": {
      "displayName": "Gabriela Władyka",
      "userId": "00676285348265176366"
     },
     "user_tz": -120
    },
    "id": "nLTZawVoL54L",
    "outputId": "6bfeec77-55c0-4c06-9881-cecbaa31d515"
   },
   "outputs": [],
   "source": [
    "tf.config.run_functions_eagerly(True)\n",
    "history_dnn = fashion_model_mnist_dnn.fit(flattenedTrainX, trainY, batch_size = 128, epochs = 75, validation_split=0.2)"
   ]
  },
  {
   "cell_type": "code",
   "execution_count": null,
   "metadata": {
    "colab": {
     "base_uri": "https://localhost:8080/",
     "height": 466
    },
    "executionInfo": {
     "elapsed": 1072,
     "status": "ok",
     "timestamp": 1691332797271,
     "user": {
      "displayName": "Gabriela Władyka",
      "userId": "00676285348265176366"
     },
     "user_tz": -120
    },
    "id": "81c1xNyoJyLM",
    "outputId": "a9729a82-c080-4d7d-bca7-90c290664ba2"
   },
   "outputs": [],
   "source": [
    "loss = history_dnn.history[\"loss\"]\n",
    "val_loss = history_dnn.history[\"val_loss\"]\n",
    "plt.xlabel(\"Epochs\")\n",
    "plt.ylabel(\"Loss\")\n",
    "plt.plot(range(1,76), loss, \"g\", label = \"Training Loss\")\n",
    "plt.plot(range(1,76), val_loss, \"r\", label = \"Validation Loss\")"
   ]
  },
  {
   "cell_type": "code",
   "execution_count": null,
   "metadata": {
    "colab": {
     "base_uri": "https://localhost:8080/",
     "height": 466
    },
    "executionInfo": {
     "elapsed": 743,
     "status": "ok",
     "timestamp": 1691332801665,
     "user": {
      "displayName": "Gabriela Władyka",
      "userId": "00676285348265176366"
     },
     "user_tz": -120
    },
    "id": "87I3MECIJ-HY",
    "outputId": "2bac24ca-4cf2-4129-98b3-a62eee8117b6"
   },
   "outputs": [],
   "source": [
    "accuracy = history_dnn.history[\"accuracy\"]\n",
    "val_accuracy = history_dnn.history[\"val_accuracy\"]\n",
    "plt.xlabel(\"Epochs\")\n",
    "plt.ylabel(\"Accuracy\")\n",
    "plt.plot(range(1,76), accuracy, \"g\", label = \"Validation Accuracy\")\n",
    "plt.plot(range(1,76), val_accuracy, \"r\", label = \"Validation Accuracy\")"
   ]
  }
 ],
 "metadata": {
  "colab": {
   "authorship_tag": "ABX9TyNB1X67C5JjXqepwRQzI9u5",
   "provenance": [
    {
     "file_id": "1WG_RmQq53VNTnATljWIFPYnikTU5VkSV",
     "timestamp": 1691331088081
    },
    {
     "file_id": "1b_ZK8R8Q_WNjndTrOVXgKlaOVLegxx9Q",
     "timestamp": 1691330964601
    },
    {
     "file_id": "1AhAZRjZUGfwKyNWVzCEdKESKdSvEvZQd",
     "timestamp": 1691330811255
    },
    {
     "file_id": "1Ff-3e2-eVLpg6zp7NDGfL4g9HbNvHvaO",
     "timestamp": 1691330669479
    }
   ]
  },
  "kernelspec": {
   "display_name": "Python 3 (ipykernel)",
   "language": "python",
   "name": "python3"
  },
  "language_info": {
   "codemirror_mode": {
    "name": "ipython",
    "version": 3
   },
   "file_extension": ".py",
   "mimetype": "text/x-python",
   "name": "python",
   "nbconvert_exporter": "python",
   "pygments_lexer": "ipython3",
   "version": "3.9.13"
  }
 },
 "nbformat": 4,
 "nbformat_minor": 1
}
