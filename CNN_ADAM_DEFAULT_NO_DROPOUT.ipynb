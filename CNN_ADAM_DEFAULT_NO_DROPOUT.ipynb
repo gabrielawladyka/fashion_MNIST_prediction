{
 "cells": [
  {
   "cell_type": "code",
   "execution_count": null,
   "metadata": {
    "executionInfo": {
     "elapsed": 11748,
     "status": "ok",
     "timestamp": 1691330907668,
     "user": {
      "displayName": "Gabriela Władyka",
      "userId": "00676285348265176366"
     },
     "user_tz": -120
    },
    "id": "522ts0lLJFge"
   },
   "outputs": [],
   "source": [
    "from subprocess import check_output\n",
    "import tensorflow as tf\n",
    "from tensorflow.keras.datasets import fashion_mnist\n",
    "import pandas as pd\n",
    "import numpy as np\n",
    "import warnings\n",
    "warnings.filterwarnings('ignore')\n",
    "import matplotlib.pyplot as plt\n",
    "from sklearn.model_selection import train_test_split\n",
    "import keras\n",
    "from keras.models import Sequential\n",
    "from keras.layers import Conv2D,MaxPooling2D,Dense,Flatten,Dropout\n",
    "from keras.optimizers import Adam\n",
    "from keras.callbacks import TensorBoard\n",
    "num_classes = 10\n",
    "epochs = 20"
   ]
  },
  {
   "cell_type": "code",
   "execution_count": null,
   "metadata": {
    "executionInfo": {
     "elapsed": 891,
     "status": "ok",
     "timestamp": 1691333201467,
     "user": {
      "displayName": "Gabriela Władyka",
      "userId": "00676285348265176366"
     },
     "user_tz": -120
    },
    "id": "1zLrnNSxJJdT"
   },
   "outputs": [],
   "source": [
    "(trainX, trainY), (validateX, validateY) = fashion_mnist.load_data()"
   ]
  },
  {
   "cell_type": "code",
   "execution_count": null,
   "metadata": {
    "executionInfo": {
     "elapsed": 4,
     "status": "ok",
     "timestamp": 1691330910819,
     "user": {
      "displayName": "Gabriela Władyka",
      "userId": "00676285348265176366"
     },
     "user_tz": -120
    },
    "id": "SAgiChK_JcFQ"
   },
   "outputs": [],
   "source": [
    "image_rows = 28\n",
    "image_cols = 28\n",
    "batch_size = 4096\n",
    "image_shape = (image_rows,image_cols)"
   ]
  },
  {
   "cell_type": "markdown",
   "metadata": {
    "id": "QFyuG5tcJVyW"
   },
   "source": [
    "**[CNN model - default Adam - no dropout]**"
   ]
  },
  {
   "cell_type": "code",
   "execution_count": null,
   "metadata": {
    "executionInfo": {
     "elapsed": 7,
     "status": "ok",
     "timestamp": 1691333204864,
     "user": {
      "displayName": "Gabriela Władyka",
      "userId": "00676285348265176366"
     },
     "user_tz": -120
    },
    "id": "S_iv6jyKJM4P"
   },
   "outputs": [],
   "source": [
    "CNN_model_Adam = Sequential([\n",
    "    Conv2D(filters=32, kernel_size=3, activation='relu', input_shape=(*image_shape, 1)),\n",
    "    MaxPooling2D(pool_size=2),\n",
    "    Flatten(),\n",
    "    Dense(32,activation='relu'),\n",
    "    Dense(10,activation = 'softmax')\n",
    "])"
   ]
  },
  {
   "cell_type": "code",
   "execution_count": null,
   "metadata": {
    "executionInfo": {
     "elapsed": 235,
     "status": "ok",
     "timestamp": 1691333209688,
     "user": {
      "displayName": "Gabriela Władyka",
      "userId": "00676285348265176366"
     },
     "user_tz": -120
    },
    "id": "6N7vR30uJoAt"
   },
   "outputs": [],
   "source": [
    "CNN_model_Adam.compile(loss ='sparse_categorical_crossentropy', optimizer=\"Adam\", metrics =['accuracy'])"
   ]
  },
  {
   "cell_type": "code",
   "execution_count": null,
   "metadata": {
    "colab": {
     "base_uri": "https://localhost:8080/"
    },
    "executionInfo": {
     "elapsed": 2122450,
     "status": "ok",
     "timestamp": 1691338684743,
     "user": {
      "displayName": "Gabriela Władyka",
      "userId": "00676285348265176366"
     },
     "user_tz": -120
    },
    "id": "ZPcaV3HdJthF",
    "outputId": "12897ee2-2396-4dc5-abcb-db500b055604"
   },
   "outputs": [],
   "source": [
    "history_CNN_Adam = CNN_model_Adam.fit(trainX, trainY, batch_size = 4096, epochs = 75, verbose = 1, validation_data=(validateX, validateY))"
   ]
  },
  {
   "cell_type": "code",
   "execution_count": null,
   "metadata": {
    "colab": {
     "base_uri": "https://localhost:8080/",
     "height": 466
    },
    "executionInfo": {
     "elapsed": 442,
     "status": "ok",
     "timestamp": 1691342530366,
     "user": {
      "displayName": "Gabriela Władyka",
      "userId": "00676285348265176366"
     },
     "user_tz": -120
    },
    "id": "81c1xNyoJyLM",
    "outputId": "06b246c2-07c5-42a4-f983-7da9e056ffef"
   },
   "outputs": [],
   "source": [
    "loss = history_CNN_Adam.history[\"loss\"]\n",
    "val_loss = history_CNN_Adam.history[\"val_loss\"]\n",
    "plt.xlabel(\"Epochs\")\n",
    "plt.ylabel(\"Loss\")\n",
    "plt.plot(range(1,76), loss, \"g\", label = \"Training Loss\")\n",
    "plt.plot(range(1,76), val_loss, \"r\", label = \"Validation Loss\")"
   ]
  },
  {
   "cell_type": "code",
   "execution_count": null,
   "metadata": {
    "colab": {
     "base_uri": "https://localhost:8080/",
     "height": 466
    },
    "executionInfo": {
     "elapsed": 897,
     "status": "ok",
     "timestamp": 1691342535969,
     "user": {
      "displayName": "Gabriela Władyka",
      "userId": "00676285348265176366"
     },
     "user_tz": -120
    },
    "id": "87I3MECIJ-HY",
    "outputId": "204e167b-5f93-4856-ae28-e3b7c0bf0a1c"
   },
   "outputs": [],
   "source": [
    "accuracy = history_CNN_Adam.history[\"accuracy\"]\n",
    "val_accuracy = history_CNN_Adam.history[\"val_accuracy\"]\n",
    "plt.xlabel(\"Epochs\")\n",
    "plt.ylabel(\"Accuracy\")\n",
    "plt.plot(range(1,76), accuracy, \"g\", label = \"Validation Accuracy\")\n",
    "plt.plot(range(1,76), val_accuracy, \"r\", label = \"Validation Accuracy\")"
   ]
  }
 ],
 "metadata": {
  "colab": {
   "authorship_tag": "ABX9TyPNUsjYJ3woWTXHA1op3s9K",
   "provenance": [
    {
     "file_id": "1AhAZRjZUGfwKyNWVzCEdKESKdSvEvZQd",
     "timestamp": 1691330811255
    },
    {
     "file_id": "1Ff-3e2-eVLpg6zp7NDGfL4g9HbNvHvaO",
     "timestamp": 1691330669479
    }
   ]
  },
  "kernelspec": {
   "display_name": "Python 3 (ipykernel)",
   "language": "python",
   "name": "python3"
  },
  "language_info": {
   "codemirror_mode": {
    "name": "ipython",
    "version": 3
   },
   "file_extension": ".py",
   "mimetype": "text/x-python",
   "name": "python",
   "nbconvert_exporter": "python",
   "pygments_lexer": "ipython3",
   "version": "3.9.13"
  }
 },
 "nbformat": 4,
 "nbformat_minor": 1
}
